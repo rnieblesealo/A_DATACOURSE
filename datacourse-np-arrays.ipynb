{
 "cells": [
  {
   "cell_type": "code",
   "execution_count": 4,
   "id": "bcec382b-fdbd-4088-b8c5-a79881937500",
   "metadata": {},
   "outputs": [],
   "source": [
    "import numpy as np"
   ]
  },
  {
   "cell_type": "code",
   "execution_count": 10,
   "id": "092e4bac-e4f2-4a0a-8042-5a0c3f8f42d2",
   "metadata": {},
   "outputs": [],
   "source": [
    "# numpy vector (array)\n",
    "\n",
    "a_list = [1, 2, 3]\n",
    "a_np_list = np.array(a_list)"
   ]
  },
  {
   "cell_type": "code",
   "execution_count": 11,
   "id": "b4a20596-54f9-4ef7-8a5a-88d4180bf3ba",
   "metadata": {},
   "outputs": [
    {
     "data": {
      "text/plain": [
       "array([[1, 2, 3],\n",
       "       [4, 5, 6]])"
      ]
     },
     "execution_count": 11,
     "metadata": {},
     "output_type": "execute_result"
    }
   ],
   "source": [
    "# numpy matrix\n",
    "\n",
    "a_matrix = [[1, 2, 3], [4, 5, 6]]\n",
    "np.array(a_matrix)"
   ]
  },
  {
   "cell_type": "code",
   "execution_count": 13,
   "id": "afe93527-9c46-4de0-b437-2f91be7cf6ea",
   "metadata": {},
   "outputs": [
    {
     "data": {
      "text/plain": [
       "array([ 0,  2,  4,  6,  8, 10])"
      ]
     },
     "execution_count": 13,
     "metadata": {},
     "output_type": "execute_result"
    }
   ],
   "source": [
    "np.arange(0, 11, 2) # range generator, last arg is stepsize"
   ]
  },
  {
   "cell_type": "code",
   "execution_count": 16,
   "id": "87d2a110-2488-492a-aec6-1ba515de1409",
   "metadata": {},
   "outputs": [
    {
     "data": {
      "text/plain": [
       "array([[0., 0., 0., 0., 0., 0., 0., 0., 0.],\n",
       "       [0., 0., 0., 0., 0., 0., 0., 0., 0.]])"
      ]
     },
     "execution_count": 16,
     "metadata": {},
     "output_type": "execute_result"
    }
   ],
   "source": [
    "np.zeros((2, 9)) # zero generator, single val for vec, 2 val for matrix"
   ]
  },
  {
   "cell_type": "code",
   "execution_count": 17,
   "id": "02fd95fa-9154-4315-a61c-18dd2832fe4c",
   "metadata": {},
   "outputs": [
    {
     "data": {
      "text/plain": [
       "array([[1., 1., 1., 1.],\n",
       "       [1., 1., 1., 1.],\n",
       "       [1., 1., 1., 1.]])"
      ]
     },
     "execution_count": 17,
     "metadata": {},
     "output_type": "execute_result"
    }
   ],
   "source": [
    "np.ones((3, 4)) # ones generator, works like zeros"
   ]
  },
  {
   "cell_type": "code",
   "execution_count": 20,
   "id": "f78099da-80e0-4c46-b718-560c580b9d8e",
   "metadata": {},
   "outputs": [
    {
     "data": {
      "text/plain": [
       "array([0. , 0.5, 1. , 1.5, 2. ])"
      ]
     },
     "execution_count": 20,
     "metadata": {},
     "output_type": "execute_result"
    }
   ],
   "source": [
    "np.linspace(0, 2, 5) # evenly spaced points between a and b; last arg is amt. of points"
   ]
  },
  {
   "cell_type": "code",
   "execution_count": 21,
   "id": "bcb6b4bd-dda6-42d2-a72c-a2d54c76307d",
   "metadata": {},
   "outputs": [
    {
     "data": {
      "text/plain": [
       "array([[1., 0., 0.],\n",
       "       [0., 1., 0.],\n",
       "       [0., 0., 1.]])"
      ]
     },
     "execution_count": 21,
     "metadata": {},
     "output_type": "execute_result"
    }
   ],
   "source": [
    "# id matrix w/numpy, pass in dimension (id is always square)\n",
    "np.eye(3)"
   ]
  },
  {
   "cell_type": "code",
   "execution_count": 24,
   "id": "bf0ebff1-5949-4af1-9a9f-47aad043cc4c",
   "metadata": {},
   "outputs": [
    {
     "data": {
      "text/plain": [
       "array([[0.10424092, 0.61841399],\n",
       "       [0.17150678, 0.51184041]])"
      ]
     },
     "execution_count": 24,
     "metadata": {},
     "output_type": "execute_result"
    }
   ],
   "source": [
    "np.random.rand(2, 2) # 1d array/mat of nums sampled from uniform dist (between 0, 1)"
   ]
  },
  {
   "cell_type": "code",
   "execution_count": 25,
   "id": "35034f77-eac8-4589-91e4-1486b015047c",
   "metadata": {},
   "outputs": [
    {
     "data": {
      "text/plain": [
       "array([[-2.63802398, -0.67938716],\n",
       "       [-0.12812929,  1.20463398]])"
      ]
     },
     "execution_count": 25,
     "metadata": {},
     "output_type": "execute_result"
    }
   ],
   "source": [
    "np.random.randn(2, 2) # same thing but samples std. normal dist"
   ]
  },
  {
   "cell_type": "code",
   "execution_count": 30,
   "id": "afe16f7b-b19d-46df-acea-22080b1e918a",
   "metadata": {},
   "outputs": [
    {
     "data": {
      "text/plain": [
       "array([99, 37,  5, 97, 94])"
      ]
     },
     "execution_count": 30,
     "metadata": {},
     "output_type": "execute_result"
    }
   ],
   "source": [
    "np.random.randint(0, 100, 5) # random int between a, b, last arg. is amt to generate"
   ]
  },
  {
   "cell_type": "code",
   "execution_count": 35,
   "id": "60611390-4212-4dbd-82c0-de0a6ecea00b",
   "metadata": {},
   "outputs": [
    {
     "data": {
      "text/plain": [
       "array([[44, 18, 86, 18, 53, 61, 41, 88, 75,  5],\n",
       "       [77, 24, 13, 46, 90, 89, 40, 86, 80, 73],\n",
       "       [82,  3, 18, 37, 24, 71, 23, 33, 96, 49]])"
      ]
     },
     "execution_count": 35,
     "metadata": {},
     "output_type": "execute_result"
    }
   ],
   "source": [
    "# reshape array into matrix, will error if not enough vals\n",
    "arr = np.random.randint(0, 100, 30)\n",
    "arr.reshape(3, 10)"
   ]
  },
  {
   "cell_type": "code",
   "execution_count": 45,
   "id": "f43986fe-107c-432d-b535-66b5e8572a26",
   "metadata": {},
   "outputs": [
    {
     "name": "stdout",
     "output_type": "stream",
     "text": [
      "gen'd array: [12  4 12 10 19  8 16 18 10  1]\n",
      "maxval: 19\n",
      "maxval idx: 4\n"
     ]
    }
   ],
   "source": [
    "# maxval and its index\n",
    "arr = np.random.randint(0, 20, 10)\n",
    "print(f\"gen'd array: {arr}\")\n",
    "print(f\"maxval: {arr.max()}\")\n",
    "print(f\"maxval idx: {arr.argmax()}\")\n",
    "\n",
    "# also works with min!"
   ]
  },
  {
   "cell_type": "code",
   "execution_count": 46,
   "id": "1d29e78a-ecff-4b9e-8f27-7a68b37a6b24",
   "metadata": {},
   "outputs": [
    {
     "data": {
      "text/plain": [
       "(10,)"
      ]
     },
     "execution_count": 46,
     "metadata": {},
     "output_type": "execute_result"
    }
   ],
   "source": [
    "# getting shape of arr\n",
    "arr.shape"
   ]
  }
 ],
 "metadata": {
  "kernelspec": {
   "display_name": "Python 3 (ipykernel)",
   "language": "python",
   "name": "python3"
  },
  "language_info": {
   "codemirror_mode": {
    "name": "ipython",
    "version": 3
   },
   "file_extension": ".py",
   "mimetype": "text/x-python",
   "name": "python",
   "nbconvert_exporter": "python",
   "pygments_lexer": "ipython3",
   "version": "3.12.7"
  }
 },
 "nbformat": 4,
 "nbformat_minor": 5
}
