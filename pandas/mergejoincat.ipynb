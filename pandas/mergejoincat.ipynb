{
 "cells": [
  {
   "cell_type": "code",
   "execution_count": 2,
   "id": "bd0131ca-2a6d-4e5c-acd8-291ec8ad3281",
   "metadata": {},
   "outputs": [
    {
     "ename": "NameError",
     "evalue": "name 'df1' is not defined",
     "output_type": "error",
     "traceback": [
      "\u001b[0;31m---------------------------------------------------------------------------\u001b[0m",
      "\u001b[0;31mNameError\u001b[0m                                 Traceback (most recent call last)",
      "Cell \u001b[0;32mIn[2], line 6\u001b[0m\n\u001b[1;32m      1\u001b[0m \u001b[38;5;28;01mimport\u001b[39;00m \u001b[38;5;21;01mpandas\u001b[39;00m \u001b[38;5;28;01mas\u001b[39;00m \u001b[38;5;21;01mpd\u001b[39;00m\n\u001b[1;32m      3\u001b[0m \u001b[38;5;66;03m# had to copy hella stuff form the thing\u001b[39;00m\n\u001b[1;32m      4\u001b[0m \u001b[38;5;66;03m# so imma just include examples\u001b[39;00m\n\u001b[0;32m----> 6\u001b[0m pd\u001b[38;5;241m.\u001b[39mconcat([df1, df2, df3]) \u001b[38;5;66;03m# glue dataframes together\u001b[39;00m\n\u001b[1;32m      8\u001b[0m \u001b[38;5;66;03m# can pass axis to stitch!\u001b[39;00m\n\u001b[1;32m     10\u001b[0m pd\u001b[38;5;241m.\u001b[39mconcat ([df1, df2, df3], axis\u001b[38;5;241m=\u001b[39m\u001b[38;5;241m1\u001b[39m)\n",
      "\u001b[0;31mNameError\u001b[0m: name 'df1' is not defined"
     ]
    }
   ],
   "source": [
    "import pandas as pd\n",
    "\n",
    "# had to copy hella stuff form the thing\n",
    "# so imma just include examples\n",
    "\n",
    "pd.concat([df1, df2, df3]) # glue dataframes together\n",
    "\n",
    "# can pass axis to stitch!\n",
    "\n",
    "pd.concat ([df1, df2, df3], axis=1)\n",
    "\n",
    "# merging puts together tables as if they were sql\n",
    "\n",
    "# KEY TAKEAWAY: learn to merge sql table!"
   ]
  },
  {
   "cell_type": "code",
   "execution_count": null,
   "id": "a5f29f0b-6f1f-4166-85b1-c506b25d79cf",
   "metadata": {},
   "outputs": [],
   "source": []
  }
 ],
 "metadata": {
  "kernelspec": {
   "display_name": "Python 3 (ipykernel)",
   "language": "python",
   "name": "python3"
  },
  "language_info": {
   "codemirror_mode": {
    "name": "ipython",
    "version": 3
   },
   "file_extension": ".py",
   "mimetype": "text/x-python",
   "name": "python",
   "nbconvert_exporter": "python",
   "pygments_lexer": "ipython3",
   "version": "3.12.9"
  }
 },
 "nbformat": 4,
 "nbformat_minor": 5
}
