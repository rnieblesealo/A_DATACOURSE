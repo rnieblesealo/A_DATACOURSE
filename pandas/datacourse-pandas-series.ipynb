{
 "cells": [
  {
   "cell_type": "code",
   "execution_count": 6,
   "id": "6858ae4c-4202-4517-a9ec-15bd57ab4ad7",
   "metadata": {},
   "outputs": [
    {
     "name": "stdout",
     "output_type": "stream",
     "text": [
      "0    10\n",
      "1    20\n",
      "2    30\n",
      "dtype: int64\n",
      "a    10\n",
      "b    20\n",
      "c    30\n",
      "dtype: int64\n",
      "a    10\n",
      "b    20\n",
      "c    30\n",
      "dtype: int64\n"
     ]
    }
   ],
   "source": [
    "# series is array object, but with axes labels\n",
    "# a dict, basically!\n",
    "\n",
    "import numpy as np\n",
    "import pandas as pd\n",
    "\n",
    "# stuff we need to make series\n",
    "labels = ['a', 'b', 'c']\n",
    "my_data = [10, 20, 30]\n",
    "arr = np.array(my_data)\n",
    "d = {'a':10, 'b':20, 'c':30}\n",
    "\n",
    "print(pd.Series(data=my_data)) # create series with default indices (0, 1, 2...)\n",
    "print(pd.Series(data=my_data, index=labels)) # create series with labels, is like a dict; labels are indices\n",
    "print(pd.Series(d)) # if we pass a dict, it already has the labels it needs!\n",
    "\n",
    "# KEY TAKEAWAY: pandas series are basically numpified dicts"
   ]
  },
  {
   "cell_type": "code",
   "execution_count": 12,
   "id": "7ff42415-48c5-4853-bfd3-8be7ba762ab4",
   "metadata": {},
   "outputs": [
    {
     "data": {
      "text/plain": [
       "USA        1\n",
       "Germany    2\n",
       "USSR       3\n",
       "Japan      4\n",
       "dtype: int64"
      ]
     },
     "execution_count": 12,
     "metadata": {},
     "output_type": "execute_result"
    }
   ],
   "source": [
    "ser1 = pd.Series(\n",
    "    data=[1, 2, 3, 4],\n",
    "    index=['USA', 'Germany', 'USSR', 'Japan']\n",
    ")\n",
    "\n",
    "ser1"
   ]
  },
  {
   "cell_type": "code",
   "execution_count": 14,
   "id": "74bd01a0-ef28-4bff-acf6-66d51b619604",
   "metadata": {},
   "outputs": [
    {
     "data": {
      "text/plain": [
       "USA        1\n",
       "Germany    2\n",
       "Italy      5\n",
       "Japan      4\n",
       "dtype: int64"
      ]
     },
     "execution_count": 14,
     "metadata": {},
     "output_type": "execute_result"
    }
   ],
   "source": [
    "ser2 = pd.Series(\n",
    "    data=[1, 2, 5, 4],\n",
    "    index=['USA', 'Germany', 'Italy', 'Japan']\n",
    ")\n",
    "\n",
    "ser2"
   ]
  },
  {
   "cell_type": "code",
   "execution_count": 15,
   "id": "1cea9dee-fb6d-43dc-bb36-16f54ecca9c1",
   "metadata": {},
   "outputs": [
    {
     "data": {
      "text/plain": [
       "1"
      ]
     },
     "execution_count": 15,
     "metadata": {},
     "output_type": "execute_result"
    }
   ],
   "source": [
    "# we index series like dicts\n",
    "ser2['USA']\n",
    "\n",
    "# KEY TAKEAWAY: index like dicts!"
   ]
  },
  {
   "cell_type": "code",
   "execution_count": 16,
   "id": "6f4e03a0-f9da-4122-be8a-d52c3e9df7c6",
   "metadata": {},
   "outputs": [
    {
     "data": {
      "text/plain": [
       "Germany    4.0\n",
       "Italy      NaN\n",
       "Japan      8.0\n",
       "USA        2.0\n",
       "USSR       NaN\n",
       "dtype: float64"
      ]
     },
     "execution_count": 16,
     "metadata": {},
     "output_type": "execute_result"
    }
   ],
   "source": [
    "# we can perform arithmetic operations on series\n",
    "ser1 + ser2"
   ]
  },
  {
   "cell_type": "code",
   "execution_count": null,
   "id": "f0a26d45-9dd3-440d-9d25-0ed854862737",
   "metadata": {},
   "outputs": [],
   "source": [
    "# if there are mismatches, NaN will be the result! we should make sure labels match on both\n",
    "# ints are converted to floats to avoid info loss from some operations (i.e. division)"
   ]
  }
 ],
 "metadata": {
  "kernelspec": {
   "display_name": "Python 3 (ipykernel)",
   "language": "python",
   "name": "python3"
  },
  "language_info": {
   "codemirror_mode": {
    "name": "ipython",
    "version": 3
   },
   "file_extension": ".py",
   "mimetype": "text/x-python",
   "name": "python",
   "nbconvert_exporter": "python",
   "pygments_lexer": "ipython3",
   "version": "3.12.9"
  }
 },
 "nbformat": 4,
 "nbformat_minor": 5
}
