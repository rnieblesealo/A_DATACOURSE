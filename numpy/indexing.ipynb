{
 "cells": [
  {
   "cell_type": "code",
   "execution_count": 3,
   "id": "662d34a1-258a-4338-950e-8f39eb1a6ddf",
   "metadata": {},
   "outputs": [],
   "source": [
    "import numpy as np"
   ]
  },
  {
   "cell_type": "code",
   "execution_count": 5,
   "id": "f73c448f-061f-4d9a-aeba-d870850a4ddd",
   "metadata": {},
   "outputs": [
    {
     "data": {
      "text/plain": [
       "array([ 0,  1,  2,  3,  4,  5,  6,  7,  8,  9, 10])"
      ]
     },
     "execution_count": 5,
     "metadata": {},
     "output_type": "execute_result"
    }
   ],
   "source": [
    "arr = np.arange(0, 11)"
   ]
  },
  {
   "cell_type": "code",
   "execution_count": 14,
   "id": "32fb8ded-ba5b-4627-a749-d942ca9ae631",
   "metadata": {},
   "outputs": [
    {
     "data": {
      "text/plain": [
       "8"
      ]
     },
     "execution_count": 14,
     "metadata": {},
     "output_type": "execute_result"
    }
   ],
   "source": [
    "# normal python indexing/slicing works!\n",
    "arr[8]"
   ]
  },
  {
   "cell_type": "code",
   "execution_count": 15,
   "id": "85869807-fff7-4b8b-9388-77ec5c90b5e7",
   "metadata": {},
   "outputs": [
    {
     "data": {
      "text/plain": [
       "array([3, 4])"
      ]
     },
     "execution_count": 15,
     "metadata": {},
     "output_type": "execute_result"
    }
   ],
   "source": [
    "arr[3:5]"
   ]
  },
  {
   "cell_type": "code",
   "execution_count": 16,
   "id": "71020fde-3b4b-4361-b8a5-33e336cc9391",
   "metadata": {},
   "outputs": [
    {
     "data": {
      "text/plain": [
       "array([0, 1, 2, 3, 4])"
      ]
     },
     "execution_count": 16,
     "metadata": {},
     "output_type": "execute_result"
    }
   ],
   "source": [
    "arr[:5]"
   ]
  },
  {
   "cell_type": "code",
   "execution_count": 17,
   "id": "0dcdded5-e199-4240-b459-16f500e5e4bf",
   "metadata": {},
   "outputs": [
    {
     "data": {
      "text/plain": [
       "array([ 2,  3,  4,  5,  6,  7,  8,  9, 10])"
      ]
     },
     "execution_count": 17,
     "metadata": {},
     "output_type": "execute_result"
    }
   ],
   "source": [
    "arr[2:]"
   ]
  },
  {
   "cell_type": "code",
   "execution_count": 21,
   "id": "a4b5047d-5af4-4a70-af09-7f9302cc1417",
   "metadata": {},
   "outputs": [
    {
     "name": "stdout",
     "output_type": "stream",
     "text": [
      "og arr: [99 99 99 99  4  5  6  7  8  9 10]\n",
      "fuggled arr: [99 99 99 99  4  5  6  7  8  9 10]\n"
     ]
    }
   ],
   "source": [
    "print(f\"og arr: {arr}\")\n",
    "\n",
    "# reassign slicing!\n",
    "arr[:4] = 99\n",
    "\n",
    "print(f\"fuggled arr: {arr}\")"
   ]
  },
  {
   "cell_type": "code",
   "execution_count": 29,
   "id": "9068900d-98b2-4d63-ad36-5ac2935da047",
   "metadata": {},
   "outputs": [
    {
     "name": "stdout",
     "output_type": "stream",
     "text": [
      "og arr [ 0  1  2  3  4  5  6  7  8  9 10 11 12 13 14 15 16 17 18 19]\n",
      "modded slice [99 99 99 99 99]\n",
      "og arr [99 99 99 99 99  5  6  7  8  9 10 11 12 13 14 15 16 17 18 19]\n"
     ]
    }
   ],
   "source": [
    "# slices are references; modifying them will mess with original arr!\n",
    "\n",
    "arr = np.arange(0, 20)\n",
    "print(f\"og arr {arr}\")\n",
    "\n",
    "arr_slice = arr[:5]\n",
    "arr_slice[:] = 99 # [:] just grabs everything\n",
    "print(f\"modded slice {arr_slice}\")\n",
    "\n",
    "print(f\"og arr {arr}\")\n",
    "\n",
    "# numpy does this to avoid too much memory consumption for large arrays"
   ]
  },
  {
   "cell_type": "code",
   "execution_count": 31,
   "id": "58ff39bf-b66a-4570-85ec-351bb2328998",
   "metadata": {},
   "outputs": [
    {
     "data": {
      "text/plain": [
       "array([99, 99, 99, 99, 99])"
      ]
     },
     "execution_count": 31,
     "metadata": {},
     "output_type": "execute_result"
    }
   ],
   "source": [
    "# we need to copy manually!\n",
    "arr_copy = arr[0:5].copy()\n",
    "arr_copy"
   ]
  },
  {
   "cell_type": "code",
   "execution_count": 43,
   "id": "70f2633a-5136-481a-8c18-22cad65fe09d",
   "metadata": {},
   "outputs": [
    {
     "data": {
      "text/plain": [
       "array([[3, 7, 8, 2],\n",
       "       [7, 1, 2, 9],\n",
       "       [1, 0, 6, 5],\n",
       "       [7, 5, 7, 7],\n",
       "       [9, 9, 3, 7]])"
      ]
     },
     "execution_count": 43,
     "metadata": {},
     "output_type": "execute_result"
    }
   ],
   "source": [
    "mat = np.random.randint(0, 10, 20).reshape(5, 4)\n",
    "mat"
   ]
  },
  {
   "cell_type": "code",
   "execution_count": 44,
   "id": "e61ae9c4-73e1-4671-876d-516851521a25",
   "metadata": {},
   "outputs": [
    {
     "data": {
      "text/plain": [
       "7"
      ]
     },
     "execution_count": 44,
     "metadata": {},
     "output_type": "execute_result"
    }
   ],
   "source": [
    "# can use doublebracks to index matrix [r][c]\n",
    "mat[1][0]"
   ]
  },
  {
   "cell_type": "code",
   "execution_count": 45,
   "id": "ea19cb3c-9c75-49e9-8a55-0d43a52eac61",
   "metadata": {},
   "outputs": [
    {
     "data": {
      "text/plain": [
       "7"
      ]
     },
     "execution_count": 45,
     "metadata": {},
     "output_type": "execute_result"
    }
   ],
   "source": [
    "# comma singlebrack notation (recommended!)\n",
    "mat[1, 0]"
   ]
  },
  {
   "cell_type": "code",
   "execution_count": 49,
   "id": "b5b0bd0f-5563-4820-a46e-5b7d74a6e1fa",
   "metadata": {},
   "outputs": [
    {
     "data": {
      "text/plain": [
       "array([3, 7, 1, 7, 9])"
      ]
     },
     "execution_count": 49,
     "metadata": {},
     "output_type": "execute_result"
    }
   ],
   "source": [
    "# we can slice matrices too\n",
    "# think of it as row selector and then col. selector\n",
    "mat[:,0]"
   ]
  },
  {
   "cell_type": "code",
   "execution_count": 53,
   "id": "32603e39-5aba-4041-8e2b-8ebf0e46e2e9",
   "metadata": {},
   "outputs": [
    {
     "data": {
      "text/plain": [
       "array([ 1,  2,  7,  0,  4,  4,  9,  6, 11,  4,  3, 11,  4,  5,  0])"
      ]
     },
     "execution_count": 53,
     "metadata": {},
     "output_type": "execute_result"
    }
   ],
   "source": [
    "arr = np.random.randint(0, 12, 15)\n",
    "arr"
   ]
  },
  {
   "cell_type": "code",
   "execution_count": 55,
   "id": "d3782469-38b6-4e74-ade0-25c5579a2a79",
   "metadata": {},
   "outputs": [],
   "source": [
    "# conditional selection\n",
    "# returns array of booleans in shape of given one,\n",
    "# with true where val matches cond and false where it doesn't\n",
    "gthan5 = arr > 5"
   ]
  },
  {
   "cell_type": "code",
   "execution_count": 56,
   "id": "f5061833-5999-4389-b4d1-aeffeb310dbd",
   "metadata": {},
   "outputs": [
    {
     "data": {
      "text/plain": [
       "array([ 7,  9,  6, 11, 11])"
      ]
     },
     "execution_count": 56,
     "metadata": {},
     "output_type": "execute_result"
    }
   ],
   "source": [
    "# we can then pass bool array as idx, acting as a \"mask\"\n",
    "# falses will be excluded\n",
    "# trues will be included\n",
    "arr[gthan5]"
   ]
  }
 ],
 "metadata": {
  "kernelspec": {
   "display_name": "Python 3 (ipykernel)",
   "language": "python",
   "name": "python3"
  },
  "language_info": {
   "codemirror_mode": {
    "name": "ipython",
    "version": 3
   },
   "file_extension": ".py",
   "mimetype": "text/x-python",
   "name": "python",
   "nbconvert_exporter": "python",
   "pygments_lexer": "ipython3",
   "version": "3.12.7"
  }
 },
 "nbformat": 4,
 "nbformat_minor": 5
}
