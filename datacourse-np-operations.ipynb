{
 "cells": [
  {
   "cell_type": "code",
   "execution_count": 6,
   "id": "ebf88af1-54a0-4c50-b8c6-585913d80535",
   "metadata": {},
   "outputs": [
    {
     "name": "stdout",
     "output_type": "stream",
     "text": [
      "[0 1 2 3] [2 4 1 3]\n"
     ]
    }
   ],
   "source": [
    "import numpy as np\n",
    "\n",
    "arr1 = np.arange(0, 4)\n",
    "arr2 = np.random.randint(0, 5, 4)\n",
    "\n",
    "print(arr1, arr2)"
   ]
  },
  {
   "cell_type": "code",
   "execution_count": 17,
   "id": "b4fac4cc-13e0-4a15-ad1b-6f4ae91ded63",
   "metadata": {},
   "outputs": [
    {
     "name": "stdout",
     "output_type": "stream",
     "text": [
      "[2 5 3 6]\n",
      "[-2 -3  1  0]\n",
      "[0 4 2 9]\n",
      "[0.   0.25 2.   1.  ]\n",
      "[32 33 34 35]\n",
      "[1.         0.5        0.33333333 0.25      ]\n",
      "[nan inf inf inf]\n"
     ]
    },
    {
     "name": "stderr",
     "output_type": "stream",
     "text": [
      "/var/folders/zf/5lzc0nrs0b77909zc1hhspwc0000gn/T/ipykernel_19140/879253674.py:17: RuntimeWarning: divide by zero encountered in divide\n",
      "  print(arr1 / 0)\n",
      "/var/folders/zf/5lzc0nrs0b77909zc1hhspwc0000gn/T/ipykernel_19140/879253674.py:17: RuntimeWarning: invalid value encountered in divide\n",
      "  print(arr1 / 0)\n"
     ]
    }
   ],
   "source": [
    "# we can do arithmetic with arrays\n",
    "# shapes must match!\n",
    "print(arr1 + arr2)\n",
    "print(arr1 - arr2)\n",
    "print(arr1 * arr2)\n",
    "print(arr1 / arr2)\n",
    "\n",
    "# operands can be normal nums\n",
    "print(arr1 + 32)\n",
    "print(1 / (arr1 + 1))\n",
    "\n",
    "# basically we can use array as a normal operand\n",
    "\n",
    "# numpy doesnt shit itself on div by zero/errors, it just gives nan/inf\n",
    "# 0/0 is nan\n",
    "# 1/0 is inf (remember limits!)\n",
    "print(arr1 / 0)"
   ]
  },
  {
   "cell_type": "code",
   "execution_count": 25,
   "id": "e5002420-8d96-421a-8ff2-5c1d227efea5",
   "metadata": {},
   "outputs": [
    {
     "data": {
      "text/plain": [
       "array([ 1.        ,  0.54030231, -0.41614684, -0.9899925 , -0.65364362,\n",
       "        0.28366219,  0.96017029,  0.75390225, -0.14550003, -0.91113026,\n",
       "       -0.83907153])"
      ]
     },
     "execution_count": 25,
     "metadata": {},
     "output_type": "execute_result"
    }
   ],
   "source": [
    "# universal array functions for fancier operations\n",
    "np.sqrt(arr1)\n",
    "np.exp(arr1)\n",
    "np.max(arr) # same as arr.max()\n",
    "np.sin(arr)\n",
    "np.cos(arr)\n",
    "\n",
    "# look at scipy docs for all!"
   ]
  }
 ],
 "metadata": {
  "kernelspec": {
   "display_name": "Python 3 (ipykernel)",
   "language": "python",
   "name": "python3"
  },
  "language_info": {
   "codemirror_mode": {
    "name": "ipython",
    "version": 3
   },
   "file_extension": ".py",
   "mimetype": "text/x-python",
   "name": "python",
   "nbconvert_exporter": "python",
   "pygments_lexer": "ipython3",
   "version": "3.12.7"
  }
 },
 "nbformat": 4,
 "nbformat_minor": 5
}
